{
 "cells": [
  {
   "cell_type": "code",
   "execution_count": 165,
   "metadata": {
    "collapsed": false
   },
   "outputs": [
    {
     "name": "stdout",
     "output_type": "stream",
     "text": [
      "('trm12_tgs1', 'wt')\n",
      "('s_1_1_AGTCAA', 'trm12_tgs1', '/Users/manager/mystuff/kallisto/results/s_1_1_AGTCAA')\n",
      "('s_1_1_AGTTCC', 'trm12_tgs1', '/Users/manager/mystuff/kallisto/results/s_1_1_AGTTCC')\n",
      "('s_1_1_GTGGCC', 'wt', '/Users/manager/mystuff/kallisto/results/s_1_1_GTGGCC')\n",
      "('s_1_1_GTTTCG', 'wt', '/Users/manager/mystuff/kallisto/results/s_1_1_GTTTCG')\n",
      "('trm12', 'trm12_tgs1')\n",
      "('s_1_1_AGTCAA', 'trm12_tgs1', '/Users/manager/mystuff/kallisto/results/s_1_1_AGTCAA')\n",
      "('s_1_1_AGTTCC', 'trm12_tgs1', '/Users/manager/mystuff/kallisto/results/s_1_1_AGTTCC')\n",
      "('s_1_1_ATGTCA', 'trm12', '/Users/manager/mystuff/kallisto/results/s_1_1_ATGTCA')\n",
      "('s_1_1_CCGTCC', 'trm12', '/Users/manager/mystuff/kallisto/results/s_1_1_CCGTCC')\n",
      "('tgs1', 'trm12_tgs1')\n",
      "('s_1_1_AGTCAA', 'trm12_tgs1', '/Users/manager/mystuff/kallisto/results/s_1_1_AGTCAA')\n",
      "('s_1_1_AGTTCC', 'trm12_tgs1', '/Users/manager/mystuff/kallisto/results/s_1_1_AGTTCC')\n",
      "('s_1_1_GTCCGC', 'tgs1', '/Users/manager/mystuff/kallisto/results/s_1_1_GTCCGC')\n",
      "('s_1_1_GTGAAA', 'tgs1', '/Users/manager/mystuff/kallisto/results/s_1_1_GTGAAA')\n",
      "('trm12', 'wt')\n",
      "('s_1_1_ATGTCA', 'trm12', '/Users/manager/mystuff/kallisto/results/s_1_1_ATGTCA')\n",
      "('s_1_1_CCGTCC', 'trm12', '/Users/manager/mystuff/kallisto/results/s_1_1_CCGTCC')\n",
      "('s_1_1_GTGGCC', 'wt', '/Users/manager/mystuff/kallisto/results/s_1_1_GTGGCC')\n",
      "('s_1_1_GTTTCG', 'wt', '/Users/manager/mystuff/kallisto/results/s_1_1_GTTTCG')\n",
      "('tgs1', 'wt')\n",
      "('s_1_1_GTCCGC', 'tgs1', '/Users/manager/mystuff/kallisto/results/s_1_1_GTCCGC')\n",
      "('s_1_1_GTGAAA', 'tgs1', '/Users/manager/mystuff/kallisto/results/s_1_1_GTGAAA')\n",
      "('s_1_1_GTGGCC', 'wt', '/Users/manager/mystuff/kallisto/results/s_1_1_GTGGCC')\n",
      "('s_1_1_GTTTCG', 'wt', '/Users/manager/mystuff/kallisto/results/s_1_1_GTTTCG')\n",
      "('tgs1', 'trm12')\n",
      "('s_1_1_ATGTCA', 'trm12', '/Users/manager/mystuff/kallisto/results/s_1_1_ATGTCA')\n",
      "('s_1_1_CCGTCC', 'trm12', '/Users/manager/mystuff/kallisto/results/s_1_1_CCGTCC')\n",
      "('s_1_1_GTCCGC', 'tgs1', '/Users/manager/mystuff/kallisto/results/s_1_1_GTCCGC')\n",
      "('s_1_1_GTGAAA', 'tgs1', '/Users/manager/mystuff/kallisto/results/s_1_1_GTGAAA')\n"
     ]
    }
   ],
   "source": [
    "import os, re\n",
    "    \n",
    "class seq_sample(object):\n",
    "    def __init__(self, seq_name, genotype, path):\n",
    "        self.seq_name = seq_name\n",
    "        self.genotype = genotype\n",
    "        self.path = path\n",
    "        \n",
    "    def make_tupple(self):\n",
    "        return (self.seq_name, self.genotype, self.path)\n",
    "    \n",
    "    def compare_genotype(self, geno1, geno2):\n",
    "        if self.genotype == geno1 or self.genotype == geno2:\n",
    "            return(self.make_tupple())\n",
    "    \n",
    "    \n",
    "\n",
    "# write dictionary with sample names as keys and genotype as value \n",
    "sample_file = \"/Users/manager/mystuff/kallisto/Sample_Report.txt\"\n",
    "sample_list = {}\n",
    "with open(sample_file) as s:\n",
    "    next(s) #skip header\n",
    "    for line in s:\n",
    "        line = line.split()\n",
    "        sample_list[line[0].rsplit(\".fastq.gz\")[0]] = line[19] #make dictionary with sample : genotype\n",
    "\n",
    "\n",
    "#write table comrised of seq_sample objects for each group       \n",
    "sample_object = []\n",
    "for dct in os.listdir(base_dir):\n",
    "    if not re.search(r\"\\.\", dct):\n",
    "        sample = seq_sample(dct, sample_list[dct], base_dir + dct)\n",
    "        sample_object.append(sample)\n",
    "        \n",
    "#get unique genotypes from sequencing samples, make list of all possible comparisons\n",
    "genotypes = set(map(lambda x : x.genotype, sample_object))\n",
    "comparisons = []\n",
    "for geno in genotypes:\n",
    "    for types in genotypes:\n",
    "        if geno != types:\n",
    "            comparisons.append(sorted((geno,types)))\n",
    "comparisons = set(map(tuple, comparisons))\n",
    "           \n",
    "#write all possible tables for comparison\n",
    "for comparison in comparisons:\n",
    "    table = []\n",
    "    for sample in sample_object:\n",
    "        x=sample.compare_genotype(comparison[0],comparison[1])\n",
    "        if x != None:\n",
    "            table.append(x)\n",
    "    print(comparison)\n",
    "    list(map(print, table))\n"
   ]
  },
  {
   "cell_type": "code",
   "execution_count": null,
   "metadata": {
    "collapsed": false
   },
   "outputs": [],
   "source": []
  }
 ],
 "metadata": {
  "kernelspec": {
   "display_name": "Python [conda env:bioinformatics]",
   "language": "python",
   "name": "conda-env-bioinformatics-py"
  },
  "language_info": {
   "codemirror_mode": {
    "name": "ipython",
    "version": 3
   },
   "file_extension": ".py",
   "mimetype": "text/x-python",
   "name": "python",
   "nbconvert_exporter": "python",
   "pygments_lexer": "ipython3",
   "version": "3.4.5"
  }
 },
 "nbformat": 4,
 "nbformat_minor": 1
}
