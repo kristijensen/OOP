{
 "cells": [
  {
   "cell_type": "code",
   "execution_count": 194,
   "metadata": {
    "collapsed": false
   },
   "outputs": [],
   "source": [
    "import os, re\n",
    "    \n",
    "class seq_experiment(object):\n",
    "    def __init__(self):\n",
    "        self.seq_samples = []\n",
    "    \n",
    "    #function to allow addition of new seq_samples to seq_experiment\n",
    "    def add_sample(self, seq_sample):\n",
    "        self.seq_samples.append(seq_sample)\n",
    "    \n",
    "    #function to return a set of all genotypes for each seq_sample in seq_experiment\n",
    "    def unique_genotypes(self):\n",
    "        return set(seq_sample.genotype for seq_sample in self.seq_samples)\n",
    "    \n",
    "    #will take two genotype arguemnts and return all samples with either of those genotypes\n",
    "    def filter_genotypes(self, geno1, geno2):\n",
    "        filtered_samples = []\n",
    "        for seq_sample in self.seq_samples:\n",
    "            if seq_sample.genotype == geno1 or seq_sample.genotype == geno2:\n",
    "                filtered_samples.append(seq_sample.make_list())\n",
    "        return filtered_samples\n",
    "    \n",
    "    #using unique genotypes function above, make all possible unique combinations of genotypes\n",
    "    def geno_comparisons(self):\n",
    "        comps = []\n",
    "        for x, y in [(x,y) for x in self.unique_genotypes() for y in self.unique_genotypes()]:\n",
    "            if x != y and sorted((x,y)) not in comps:\n",
    "                comps.append(sorted((x,y)))\n",
    "        return comps\n",
    "    \n",
    "    \n",
    "    def sample_geno_comp(self):\n",
    "        Filtered = []\n",
    "        for x in self.geno_comparisons():\n",
    "            y=self.filter_genotypes(x[0],x[1])\n",
    "            if y != None:\n",
    "                Filtered.append(y)\n",
    "        return Filtered\n",
    "    \n",
    "class seq_sample(seq_experiment):\n",
    "    def __init__(self, seq_name, genotype, path):\n",
    "        self.seq_name = seq_name\n",
    "        self.genotype = genotype\n",
    "        self.path = path\n",
    "        \n",
    "    def make_tupple(self):\n",
    "        return (self.seq_name, self.genotype, self.path)\n",
    "    \n",
    "    def compare_genotype(self, geno1, geno2):\n",
    "        if self.genotype == geno1 or self.genotype == geno2:\n",
    "            return(self.make_tupple())\n",
    "        \n",
    "    def make_list(self):\n",
    "        return [self.seq_name, self.genotype, self.path]"
   ]
  },
  {
   "cell_type": "code",
   "execution_count": 195,
   "metadata": {
    "collapsed": false
   },
   "outputs": [
    {
     "name": "stdout",
     "output_type": "stream",
     "text": [
      "Genotyes:\n",
      "{'trm12', 'wt', 'trm12_tgs1', 'tgs1'}\n",
      "Genotype comparisons:\n",
      "[['trm12', 'wt'], ['trm12', 'trm12_tgs1'], ['tgs1', 'trm12'], ['trm12_tgs1', 'wt'], ['tgs1', 'wt'], ['tgs1', 'trm12_tgs1']]\n",
      "Sample comparisons by genotype:\n",
      "['s_1_1_ATGTCA', 'trm12', '/Users/manager/mystuff/kallisto/results/s_1_1_ATGTCA']\n",
      "['s_1_1_CCGTCC', 'trm12', '/Users/manager/mystuff/kallisto/results/s_1_1_CCGTCC']\n",
      "['s_1_1_GTGGCC', 'wt', '/Users/manager/mystuff/kallisto/results/s_1_1_GTGGCC']\n",
      "['s_1_1_GTTTCG', 'wt', '/Users/manager/mystuff/kallisto/results/s_1_1_GTTTCG']\n",
      "['s_1_1_AGTCAA', 'trm12_tgs1', '/Users/manager/mystuff/kallisto/results/s_1_1_AGTCAA']\n",
      "['s_1_1_AGTTCC', 'trm12_tgs1', '/Users/manager/mystuff/kallisto/results/s_1_1_AGTTCC']\n",
      "['s_1_1_ATGTCA', 'trm12', '/Users/manager/mystuff/kallisto/results/s_1_1_ATGTCA']\n",
      "['s_1_1_CCGTCC', 'trm12', '/Users/manager/mystuff/kallisto/results/s_1_1_CCGTCC']\n",
      "['s_1_1_ATGTCA', 'trm12', '/Users/manager/mystuff/kallisto/results/s_1_1_ATGTCA']\n",
      "['s_1_1_CCGTCC', 'trm12', '/Users/manager/mystuff/kallisto/results/s_1_1_CCGTCC']\n",
      "['s_1_1_GTCCGC', 'tgs1', '/Users/manager/mystuff/kallisto/results/s_1_1_GTCCGC']\n",
      "['s_1_1_GTGAAA', 'tgs1', '/Users/manager/mystuff/kallisto/results/s_1_1_GTGAAA']\n",
      "['s_1_1_AGTCAA', 'trm12_tgs1', '/Users/manager/mystuff/kallisto/results/s_1_1_AGTCAA']\n",
      "['s_1_1_AGTTCC', 'trm12_tgs1', '/Users/manager/mystuff/kallisto/results/s_1_1_AGTTCC']\n",
      "['s_1_1_GTGGCC', 'wt', '/Users/manager/mystuff/kallisto/results/s_1_1_GTGGCC']\n",
      "['s_1_1_GTTTCG', 'wt', '/Users/manager/mystuff/kallisto/results/s_1_1_GTTTCG']\n",
      "['s_1_1_GTCCGC', 'tgs1', '/Users/manager/mystuff/kallisto/results/s_1_1_GTCCGC']\n",
      "['s_1_1_GTGAAA', 'tgs1', '/Users/manager/mystuff/kallisto/results/s_1_1_GTGAAA']\n",
      "['s_1_1_GTGGCC', 'wt', '/Users/manager/mystuff/kallisto/results/s_1_1_GTGGCC']\n",
      "['s_1_1_GTTTCG', 'wt', '/Users/manager/mystuff/kallisto/results/s_1_1_GTTTCG']\n",
      "['s_1_1_AGTCAA', 'trm12_tgs1', '/Users/manager/mystuff/kallisto/results/s_1_1_AGTCAA']\n",
      "['s_1_1_AGTTCC', 'trm12_tgs1', '/Users/manager/mystuff/kallisto/results/s_1_1_AGTTCC']\n",
      "['s_1_1_GTCCGC', 'tgs1', '/Users/manager/mystuff/kallisto/results/s_1_1_GTCCGC']\n",
      "['s_1_1_GTGAAA', 'tgs1', '/Users/manager/mystuff/kallisto/results/s_1_1_GTGAAA']\n"
     ]
    }
   ],
   "source": [
    "# write dictionary with sample names as keys and genotype as value \n",
    "sample_file = \"/Users/manager/mystuff/kallisto/Sample_Report.txt\"\n",
    "sample_list = {}\n",
    "with open(sample_file) as s:\n",
    "    next(s) #skip header\n",
    "    for line in s:\n",
    "        line = line.split()\n",
    "        sample_list[line[0].rsplit(\".fastq.gz\")[0]] = line[19] #make dictionary with sample : genotype\n",
    "\n",
    "\n",
    "#write table comrised of seq_sample objects each saved to seq_experiment object called experiment\n",
    "base_dir = \"/Users/manager/mystuff/kallisto/results/\"     \n",
    "experiment = seq_experiment()\n",
    "for dct in os.listdir(base_dir):\n",
    "    if not re.search(r\"\\.\", dct):\n",
    "        # build each seq_sample from an individual library to the seq_experiment\n",
    "        experiment.add_sample(seq_sample(dct, sample_list[dct], base_dir + dct))\n",
    "        \n",
    "#get unique genotypes from sequencing samples, make list of all possible comparisons\n",
    "genotypes = experiment.unique_genotypes() #produces set of unique genotypes in experiment\n",
    "comparisons = experiment.geno_comparisons() #produces all comparisons for all unique genotypes in experiment\n",
    "tables = experiment.sample_geno_comp()\n",
    "\n",
    "print(\"Genotyes:\")\n",
    "print(genotypes)\n",
    "print(\"Genotype comparisons:\")\n",
    "print(comparisons)\n",
    "print(\"Sample comparisons by genotype:\")\n",
    "for table in tables:\n",
    "    for t in table:\n",
    "        print(t)"
   ]
  },
  {
   "cell_type": "code",
   "execution_count": null,
   "metadata": {
    "collapsed": false
   },
   "outputs": [],
   "source": []
  }
 ],
 "metadata": {
  "kernelspec": {
   "display_name": "Python [conda env:bioinformatics]",
   "language": "python",
   "name": "conda-env-bioinformatics-py"
  },
  "language_info": {
   "codemirror_mode": {
    "name": "ipython",
    "version": 3
   },
   "file_extension": ".py",
   "mimetype": "text/x-python",
   "name": "python",
   "nbconvert_exporter": "python",
   "pygments_lexer": "ipython3",
   "version": "3.4.5"
  }
 },
 "nbformat": 4,
 "nbformat_minor": 1
}
